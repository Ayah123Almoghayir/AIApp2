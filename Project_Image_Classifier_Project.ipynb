{
 "cells": [
  {
   "cell_type": "markdown",
   "metadata": {
    "colab_type": "text",
    "id": "y00b5TQZnqs_"
   },
   "source": [
    "# Your First AI application\n",
    "\n",
    "Going forward, AI algorithms will be incorporated into more and more everyday applications. For example, you might want to include an image classifier in a smart phone app. To do this, you'd use a deep learning model trained on hundreds of thousands of images as part of the overall application architecture. A large part of software development in the future will be using these types of models as common parts of applications. \n",
    "\n",
    "In this project, you'll train an image classifier to recognize different species of flowers. You can imagine using something like this in a phone app that tells you the name of the flower your camera is looking at. In practice you'd train this classifier, then export it for use in your application. We'll be using [this dataset](http://www.robots.ox.ac.uk/~vgg/data/flowers/102/index.html) from Oxford of 102 flower categories, you can see a few examples below. \n",
    "\n",
    "<img src='assets/Flowers.png' width=500px>\n",
    "\n",
    "The project is broken down into multiple steps:\n",
    "\n",
    "* Load the image dataset and create a pipeline.\n",
    "* Build and Train an image classifier on this dataset.\n",
    "* Use your trained model to perform inference on flower images.\n",
    "\n",
    "We'll lead you through each part which you'll implement in Python.\n",
    "\n",
    "When you've completed this project, you'll have an application that can be trained on any set of labeled images. Here your network will be learning about flowers and end up as a command line application. But, what you do with your new skills depends on your imagination and effort in building a dataset. For example, imagine an app where you take a picture of a car, it tells you what the make and model is, then looks up information about it. Go build your own dataset and make something new."
   ]
  },
  {
   "cell_type": "markdown",
   "metadata": {
    "colab_type": "text",
    "id": "kKnPjnLAftRV"
   },
   "source": [
    "## Import Resources"
   ]
  },
  {
   "cell_type": "code",
   "execution_count": 4,
   "metadata": {
    "colab": {},
    "colab_type": "code",
    "id": "2dCk6873paNW"
   },
   "outputs": [],
   "source": [
    "# TODO: Make all necessary imports.\n",
    "# Importing the essential libraries\n",
    "import numpy as np\n",
    "import matplotlib.pyplot as plt\n",
    "import tensorflow as tf\n",
    "import tensorflow_hub as hub\n",
    "import tensorflow_datasets as tfds\n",
    "from PIL import Image\n",
    "import json\n",
    "\n",
    "# Importing sklearn for model evaluation (optional, if you need it)\n",
    "from sklearn.metrics import accuracy_score, classification_report\n"
   ]
  },
  {
   "cell_type": "markdown",
   "metadata": {
    "colab_type": "text",
    "id": "tWKF0YOarpCx"
   },
   "source": [
    "## Load the Dataset\n",
    "\n",
    "Here you'll use `tensorflow_datasets` to load the [Oxford Flowers 102 dataset](https://www.tensorflow.org/datasets/catalog/oxford_flowers102). This dataset has 3 splits: `'train'`, `'test'`, and `'validation'`.  You'll also need to make sure the training data is normalized and resized to 224x224 pixels as required by the pre-trained networks.\n",
    "\n",
    "The validation and testing sets are used to measure the model's performance on data it hasn't seen yet, but you'll still need to normalize and resize the images to the appropriate size."
   ]
  },
  {
   "cell_type": "code",
   "execution_count": null,
   "metadata": {
    "colab": {
     "base_uri": "https://localhost:8080/",
     "height": 1000
    },
    "colab_type": "code",
    "id": "vXISRjfdrrQ6",
    "outputId": "6edf59b2-b468-4c4a-cff4-7cc7cfcc3c2d"
   },
   "outputs": [],
   "source": [
    "import tensorflow as tf\n",
    "import tensorflow_datasets as tfds\n",
    "\n",
    "# Load the dataset with TensorFlow Datasets\n",
    "print(\"Downloading the dataset...\")\n",
    "dataset, info = tfds.load(\n",
    "    'oxford_flowers102',\n",
    "    with_info=True,\n",
    "    as_supervised=True,\n",
    "    download=True,\n",
    ")\n",
    "\n",
    "# Display dataset information\n",
    "print(info)\n",
    "\n",
    "# Split the dataset into training, validation, and test sets\n",
    "train_dataset = dataset['train']\n",
    "validation_dataset = dataset['validation']\n",
    "test_dataset = dataset['test']\n",
    "\n",
    "# Function to preprocess the images\n",
    "def preprocess(image, label):\n",
    "    \"\"\"\n",
    "    Preprocesses the dataset images by resizing and normalizing.\n",
    "    \"\"\"\n",
    "    # Resize the image to 224x224 pixels\n",
    "    image = tf.image.resize(image, (224, 224))\n",
    "    # Normalize the image to the range [0, 1]\n",
    "    image = image / 255.0\n",
    "    return image, label\n",
    "\n",
    "# Apply preprocessing\n",
    "train_dataset = train_dataset.map(preprocess, num_parallel_calls=tf.data.AUTOTUNE)\n",
    "validation_dataset = validation_dataset.map(preprocess, num_parallel_calls=tf.data.AUTOTUNE)\n",
    "test_dataset = test_dataset.map(preprocess, num_parallel_calls=tf.data.AUTOTUNE)\n",
    "\n",
    "# Batch and prefetch for performance\n",
    "batch_size = 32\n",
    "train_dataset = train_dataset.batch(batch_size).prefetch(tf.data.AUTOTUNE)\n",
    "validation_dataset = validation_dataset.batch(batch_size).prefetch(tf.data.AUTOTUNE)\n",
    "test_dataset = test_dataset.batch(batch_size).prefetch(tf.data.AUTOTUNE)\n",
    "\n",
    "# Print success message\n",
    "print(\"Datasets are ready!\")\n",
    "\n",
    "# Check the shape of one batch\n",
    "for images, labels in train_dataset.take(1):\n",
    "    print(f\"Image batch shape: {images.shape}\")\n",
    "    print(f\"Label batch shape: {labels.shape}\")\n"
   ]
  },
  {
   "cell_type": "code",
   "execution_count": null,
   "metadata": {},
   "outputs": [],
   "source": []
  },
  {
   "cell_type": "markdown",
   "metadata": {
    "colab_type": "text",
    "id": "S5pdQnDbf0-j"
   },
   "source": [
    "## Explore the Dataset"
   ]
  },
  {
   "cell_type": "code",
   "execution_count": null,
   "metadata": {
    "colab": {
     "base_uri": "https://localhost:8080/",
     "height": 102
    },
    "colab_type": "code",
    "id": "XikJ4X7FUv8v",
    "outputId": "10240009-1148-41ae-8ce0-4025c2f2fa87"
   },
   "outputs": [],
   "source": [
    "# TODO: Get the number of examples in each set from the dataset info.\n",
    "# Get dataset info\n",
    "dataset, info = tfds.load('oxford_flowers102', with_info=True, as_supervised=True)\n",
    "\n",
    "# Number of examples in each set\n",
    "num_train_examples = info.splits['train'].num_examples\n",
    "num_validation_examples = info.splits['validation'].num_examples\n",
    "num_test_examples = info.splits['test'].num_examples\n",
    "\n",
    "print(f\"Number of training examples: {num_train_examples}\")\n",
    "print(f\"Number of validation examples: {num_validation_examples}\")\n",
    "print(f\"Number of test examples: {num_test_examples}\")\n",
    "\n",
    "# TODO: Get the number of classes in the dataset from the dataset info.\n",
    "# Number of classes in the dataset\n",
    "num_classes = info.features['label'].num_classes\n",
    "\n",
    "print(f\"Number of classes: {num_classes}\")"
   ]
  },
  {
   "cell_type": "code",
   "execution_count": null,
   "metadata": {
    "colab": {
     "base_uri": "https://localhost:8080/",
     "height": 68
    },
    "colab_type": "code",
    "id": "CWR9ScCbPI_D",
    "outputId": "fdf01c8d-2db9-4d7c-a566-4db2599fd1ab"
   },
   "outputs": [],
   "source": [
    "# TODO: Print the shape and corresponding label of 3 images in the training set.\n",
    "# Get the dataset\n",
    "import tensorflow as tf\n",
    "import tensorflow_datasets as tfds\n",
    "\n",
    "dataset, info = tfds.load('oxford_flowers102', with_info=True, as_supervised=True)\n",
    "train_dataset = dataset['train']\n",
    "\n",
    "# Preprocessing function\n",
    "def preprocess(image, label):\n",
    "    image = tf.image.resize(image, (224, 224))\n",
    "    image = image / 255.0\n",
    "    return image, label\n",
    "\n",
    "# Apply preprocessing\n",
    "train_dataset = train_dataset.map(preprocess)\n",
    "\n",
    "# Create an iterator for the dataset\n",
    "iterator = iter(train_dataset)\n",
    "\n",
    "# Print shape and label of 3 images\n",
    "for _ in range(3):\n",
    "    image, label = next(iterator)\n",
    "    print(f\"Image shape: {image.shape}, Label: {label.numpy()}\")"
   ]
  },
  {
   "cell_type": "code",
   "execution_count": null,
   "metadata": {
    "colab": {
     "base_uri": "https://localhost:8080/",
     "height": 280
    },
    "colab_type": "code",
    "id": "DQbnq8htRTnl",
    "outputId": "32a0e1af-2b04-440e-ddb4-835732be3e83"
   },
   "outputs": [],
   "source": [
    "# TODO: Plot 1 image from the training set. Set the title \n",
    "# of the plot to the corresponding image label. \n",
    "import matplotlib.pyplot as plt\n",
    "import tensorflow as tf\n",
    "import tensorflow_datasets as tfds\n",
    "\n",
    "# Load the dataset\n",
    "dataset, info = tfds.load('oxford_flowers102', with_info=True, as_supervised=True)\n",
    "train_dataset = dataset['train']\n",
    "\n",
    "# Preprocessing function\n",
    "def preprocess(image, label):\n",
    "    image = tf.image.resize(image, (224, 224))\n",
    "    image = image / 255.0\n",
    "    return image, label\n",
    "\n",
    "# Apply preprocessing\n",
    "train_dataset = train_dataset.map(preprocess)\n",
    "\n",
    "# Create an iterator for the dataset\n",
    "iterator = iter(train_dataset)\n",
    "\n",
    "# Get one image and its label\n",
    "image, label = next(iterator)\n",
    "\n",
    "# Plot the image\n",
    "plt.imshow(image)\n",
    "plt.title(f\"Label: {label.numpy()}\")\n",
    "plt.axis('off')  # Hide the axis\n",
    "plt.show()"
   ]
  },
  {
   "cell_type": "markdown",
   "metadata": {
    "colab_type": "text",
    "id": "zuh1841cs-j1"
   },
   "source": [
    "### Label Mapping\n",
    "\n",
    "You'll also need to load in a mapping from label to category name. You can find this in the file `label_map.json`. It's a JSON object which you can read in with the [`json` module](https://docs.python.org/3.7/library/json.html). This will give you a dictionary mapping the integer coded labels to the actual names of the flowers."
   ]
  },
  {
   "cell_type": "code",
   "execution_count": null,
   "metadata": {
    "colab": {},
    "colab_type": "code",
    "id": "JoVzdO3KsdSk"
   },
   "outputs": [],
   "source": [
    "import json\n",
    "with open('label_map.json', 'r') as f:\n",
    "    class_names = json.load(f)"
   ]
  },
  {
   "cell_type": "code",
   "execution_count": null,
   "metadata": {
    "colab": {
     "base_uri": "https://localhost:8080/",
     "height": 280
    },
    "colab_type": "code",
    "id": "fc6pMUZgEvUo",
    "outputId": "4274fd43-5cee-4523-885f-a18f6f277dd6"
   },
   "outputs": [],
   "source": [
    "# TODO: Plot 1 image from the training set. Set the title \n",
    "# of the plot to the corresponding class name. \n",
    "import json\n",
    "import numpy as np\n",
    "import matplotlib.pyplot as plt\n",
    "import tensorflow as tf\n",
    "import tensorflow_datasets as tfds\n",
    "from PIL import Image\n",
    "\n",
    "# Load the label mapping\n",
    "with open('label_map.json', 'r') as f:\n",
    "    class_names = json.load(f)\n",
    "\n",
    "# Load the dataset\n",
    "dataset, info = tfds.load('oxford_flowers102', with_info=True, as_supervised=True)\n",
    "train_dataset = dataset['train']\n",
    "\n",
    "# Preprocessing function\n",
    "def preprocess(image, label):\n",
    "    image = tf.image.resize(image, (224, 224))\n",
    "    image = image / 255.0\n",
    "    return image, label\n",
    "\n",
    "train_dataset = train_dataset.map(preprocess)\n",
    "\n",
    "# Create an iterator for the dataset\n",
    "iterator = iter(train_dataset)\n",
    "\n",
    "# Get one image and its label\n",
    "image, label = next(iterator)\n",
    "label = label.numpy()\n",
    "\n",
    "# Plot the image with the corresponding class name\n",
    "plt.imshow(image)\n",
    "plt.title(f\"Label: {class_names[str(label)]}\")\n",
    "plt.axis('off')  # Hide the axis\n",
    "plt.show()"
   ]
  },
  {
   "cell_type": "markdown",
   "metadata": {
    "colab_type": "text",
    "id": "0gL7AaqNf-NC"
   },
   "source": [
    "## Create Pipeline"
   ]
  },
  {
   "cell_type": "code",
   "execution_count": null,
   "metadata": {
    "colab": {
     "base_uri": "https://localhost:8080/",
     "height": 88
    },
    "colab_type": "code",
    "id": "5hNznLbPNZxS",
    "outputId": "7c114910-b75f-4220-cda9-f84426ec2728"
   },
   "outputs": [],
   "source": [
    "# TODO: Create a pipeline for each set.\n",
    "import tensorflow as tf\n",
    "import tensorflow_datasets as tfds\n",
    "\n",
    "# Load the Oxford Flowers 102 dataset\n",
    "dataset, info = tfds.load('oxford_flowers102', with_info=True, as_supervised=True)\n",
    "\n",
    "# Preprocessing function\n",
    "def preprocess(image, label):\n",
    "    # Resize the image to 224x224 pixels\n",
    "    image = tf.image.resize(image, (224, 224))\n",
    "    # Normalize the image to the range [0, 1]\n",
    "    image = image / 255.0\n",
    "    return image, label\n",
    "\n",
    "# Create the pipeline for the training set\n",
    "train_dataset = dataset['train']\n",
    "train_dataset = train_dataset.map(preprocess, num_parallel_calls=tf.data.experimental.AUTOTUNE)\n",
    "train_dataset = train_dataset.shuffle(buffer_size=1000)\n",
    "train_dataset = train_dataset.batch(32)\n",
    "train_dataset = train_dataset.prefetch(buffer_size=tf.data.experimental.AUTOTUNE)\n",
    "\n",
    "# Create the pipeline for the validation set\n",
    "validation_dataset = dataset['validation']\n",
    "validation_dataset = validation_dataset.map(preprocess, num_parallel_calls=tf.data.experimental.AUTOTUNE)\n",
    "validation_dataset = validation_dataset.batch(32)\n",
    "validation_dataset = validation_dataset.prefetch(buffer_size=tf.data.experimental.AUTOTUNE)\n",
    "\n",
    "# Create the pipeline for the test set\n",
    "test_dataset = dataset['test']\n",
    "test_dataset = test_dataset.map(preprocess, num_parallel_calls=tf.data.experimental.AUTOTUNE)\n",
    "test_dataset = test_dataset.batch(32)\n",
    "test_dataset = test_dataset.prefetch(buffer_size=tf.data.experimental.AUTOTUNE)\n",
    "\n",
    "print(\"Pipelines for training, validation, and test sets are ready!\")"
   ]
  },
  {
   "cell_type": "markdown",
   "metadata": {
    "colab_type": "text",
    "id": "gR9gtRbeXPYx"
   },
   "source": [
    "# Build and Train the Classifier\n",
    "\n",
    "Now that the data is ready, it's time to build and train the classifier. You should use the MobileNet pre-trained model from TensorFlow Hub to get the image features. Build and train a new feed-forward classifier using those features.\n",
    "\n",
    "We're going to leave this part up to you. If you want to talk through it with someone, chat with your fellow students! \n",
    "\n",
    "Refer to the rubric for guidance on successfully completing this section. Things you'll need to do:\n",
    "\n",
    "* Load the MobileNet pre-trained network from TensorFlow Hub.\n",
    "* Define a new, untrained feed-forward network as a classifier.\n",
    "* Train the classifier.\n",
    "* Plot the loss and accuracy values achieved during training for the training and validation set.\n",
    "* Save your trained model as a Keras model. \n",
    "\n",
    "We've left a cell open for you below, but use as many as you need. Our advice is to break the problem up into smaller parts you can run separately. Check that each part is doing what you expect, then move on to the next. You'll likely find that as you work through each part, you'll need to go back and modify your previous code. This is totally normal!\n",
    "\n",
    "When training make sure you're updating only the weights of the feed-forward network. You should be able to get the validation accuracy above 70% if you build everything right.\n",
    "\n",
    "**Note for Workspace users:** One important tip if you're using the workspace to run your code: To avoid having your workspace disconnect during the long-running tasks in this notebook, please read in the earlier page in this lesson called Intro to GPU Workspaces about Keeping Your Session Active. You'll want to include code from the workspace_utils.py module. Also, If your model is over 1 GB when saved as a checkpoint, there might be issues with saving backups in your workspace. If your saved checkpoint is larger than 1 GB (you can open a terminal and check with `ls -lh`), you should reduce the size of your hidden layers and train again."
   ]
  },
  {
   "cell_type": "code",
   "execution_count": null,
   "metadata": {
    "colab": {},
    "colab_type": "code",
    "id": "4zElEHViXLni"
   },
   "outputs": [],
   "source": [
    "import tensorflow as tf\n",
    "from tensorflow.keras import layers, models\n",
    "import matplotlib.pyplot as plt\n",
    "\n",
    "# Build the CNN model\n",
    "model = models.Sequential([\n",
    "    layers.Conv2D(32, (3, 3), activation='relu', input_shape=(224, 224, 3)),\n",
    "    layers.MaxPooling2D((2, 2)),\n",
    "    layers.Conv2D(64, (3, 3), activation='relu'),\n",
    "    layers.MaxPooling2D((2, 2)),\n",
    "    layers.Conv2D(128, (3, 3), activation='relu'),\n",
    "    layers.MaxPooling2D((2, 2)),\n",
    "    layers.Flatten(),\n",
    "    layers.Dense(256, activation='relu'),\n",
    "    layers.Dropout(0.5),\n",
    "    layers.Dense(102, activation='softmax')  # 102 classes for the Oxford Flowers dataset\n",
    "])\n",
    "\n",
    "# Compile the model\n",
    "model.compile(\n",
    "    optimizer='adam',\n",
    "    loss='sparse_categorical_crossentropy',\n",
    "    metrics=['accuracy']\n",
    ")\n",
    "\n",
    "# Train the model\n",
    "print(\"Training the model...\")\n",
    "history = model.fit(\n",
    "    train_dataset,\n",
    "    validation_data=validation_dataset,\n",
    "    epochs=10  # Adjust epochs as needed\n",
    ")\n",
    "\n",
    "# Plot the loss and accuracy values achieved during training\n",
    "plt.figure(figsize=(12, 4))\n",
    "\n",
    "# Plot training & validation accuracy values\n",
    "plt.subplot(1, 2, 1)\n",
    "plt.plot(history.history['accuracy'], label='Train Accuracy')\n",
    "plt.plot(history.history['val_accuracy'], label='Validation Accuracy')\n",
    "plt.title('Model Accuracy')\n",
    "plt.ylabel('Accuracy')\n",
    "plt.xlabel('Epoch')\n",
    "plt.legend(loc='upper left')\n",
    "\n"
   ]
  },
  {
   "cell_type": "code",
   "execution_count": null,
   "metadata": {
    "colab": {
     "base_uri": "https://localhost:8080/",
     "height": 498
    },
    "colab_type": "code",
    "id": "VU6sWzx4e7Yb",
    "outputId": "f7b5c7c5-683a-463c-9228-68c4918bdd5b"
   },
   "outputs": [],
   "source": [
    "# TODO: Plot the loss and accuracy values achieved during training for the training and validation set.\n",
    "\n",
    "import matplotlib.pyplot as plt\n",
    "\n",
    "# Assuming the 'history' object contains the training history\n",
    "# which includes accuracy and loss values for both training and validation sets\n",
    "\n",
    "# Plot training and validation accuracy values\n",
    "plt.figure(figsize=(12, 4))\n",
    "plt.subplot(1, 2, 1)\n",
    "plt.plot(history.history['accuracy'], label='Train Accuracy')\n",
    "plt.plot(history.history['val_accuracy'], label='Validation Accuracy')\n",
    "plt.title('Model Accuracy')\n",
    "plt.xlabel('Epoch')\n",
    "plt.ylabel('Accuracy')\n",
    "plt.legend(loc='upper left')\n",
    "\n",
    "# Plot training and validation loss values\n",
    "plt.subplot(1, 2, 2)\n",
    "plt.plot(history.history['loss'], label='Train Loss')\n",
    "plt.plot(history.history['val_loss'], label='Validation Loss')\n",
    "plt.title('Model Loss')\n",
    "plt.xlabel('Epoch')\n",
    "plt.ylabel('Loss')\n",
    "plt.legend(loc='upper left')\n",
    "\n",
    "plt.show()"
   ]
  },
  {
   "cell_type": "markdown",
   "metadata": {
    "colab_type": "text",
    "id": "qcTDnyvop3ky"
   },
   "source": [
    "## Testing your Network\n",
    "\n",
    "It's good practice to test your trained network on test data, images the network has never seen either in training or validation. This will give you a good estimate for the model's performance on completely new images. You should be able to reach around 70% accuracy on the test set if the model has been trained well."
   ]
  },
  {
   "cell_type": "code",
   "execution_count": null,
   "metadata": {
    "colab": {
     "base_uri": "https://localhost:8080/",
     "height": 85
    },
    "colab_type": "code",
    "id": "79l7-HM1cafO",
    "outputId": "6cf468a4-1e27-4f20-d63a-a8bdd78bcdbe"
   },
   "outputs": [],
   "source": [
    "# TODO: Print the loss and accuracy values achieved on the entire test set.\n",
    "# Evaluate the model on the test set\n",
    "test_loss, test_accuracy = model.evaluate(test_dataset)\n",
    "\n",
    "print(f\"Test Loss: {test_loss}\")\n",
    "print(f\"Test Accuracy: {test_accuracy * 100:.2f}%\")"
   ]
  },
  {
   "cell_type": "markdown",
   "metadata": {
    "colab_type": "text",
    "id": "pLsIDWnuqfkl"
   },
   "source": [
    "## Save the Model\n",
    "\n",
    "Now that your network is trained, save the model so you can load it later for making inference. In the cell below save your model as a Keras model (*i.e.* save it as an HDF5 file)."
   ]
  },
  {
   "cell_type": "code",
   "execution_count": null,
   "metadata": {
    "colab": {},
    "colab_type": "code",
    "id": "7XOwdOjSptp-"
   },
   "outputs": [],
   "source": [
    "# TODO: Save your trained model as a Keras model.\n",
    "# Save the trained model as an HDF5 file\n",
    "model.save('flower_classifier_model.h5')\n",
    "print(\"Model saved as 'flower_classifier_model.h5'\")"
   ]
  },
  {
   "cell_type": "markdown",
   "metadata": {
    "colab_type": "text",
    "id": "rbeLSRC1rxuj"
   },
   "source": [
    "## Load the Keras Model\n",
    "\n",
    "Load the Keras model you saved above."
   ]
  },
  {
   "cell_type": "code",
   "execution_count": null,
   "metadata": {
    "colab": {
     "base_uri": "https://localhost:8080/",
     "height": 394
    },
    "colab_type": "code",
    "id": "3T6Dgc7Nrzds",
    "outputId": "f5d356dc-183f-4cd3-f15d-88ebb4966082"
   },
   "outputs": [],
   "source": [
    "# TODO: Load the Keras model\n",
    "import tensorflow as tf\n",
    "\n",
    "# Load the trained model\n",
    "loaded_model = tf.keras.models.load_model('flower_classifier_model.h5', custom_objects={'KerasLayer': hub.KerasLayer})\n",
    "print(\"Model loaded successfully!\")\n"
   ]
  },
  {
   "cell_type": "markdown",
   "metadata": {
    "colab_type": "text",
    "id": "ZjucwuFrsyhJ"
   },
   "source": [
    "# Inference for Classification\n",
    "\n",
    "Now you'll write a function that uses your trained network for inference. Write a function called `predict` that takes an image, a model, and then returns the top $K$ most likely class labels along with the probabilities. The function call should look like: \n",
    "\n",
    "```python\n",
    "probs, classes = predict(image_path, model, top_k)\n",
    "```\n",
    "\n",
    "If `top_k=5` the output of the `predict` function should be something like this:\n",
    "\n",
    "```python\n",
    "probs, classes = predict(image_path, model, 5)\n",
    "print(probs)\n",
    "print(classes)\n",
    "> [ 0.01558163  0.01541934  0.01452626  0.01443549  0.01407339]\n",
    "> ['70', '3', '45', '62', '55']\n",
    "```\n",
    "\n",
    "Your `predict` function should use `PIL` to load the image from the given `image_path`. You can use the [Image.open](https://pillow.readthedocs.io/en/latest/reference/Image.html#PIL.Image.open) function to load the images. The `Image.open()` function returns an `Image` object. You can convert this `Image` object to a NumPy array by using the `np.asarray()` function.\n",
    "\n",
    "The `predict` function will also need to handle pre-processing the input image such that it can be used by your model. We recommend you write a separate function called `process_image` that performs the pre-processing. You can then call the `process_image` function from the `predict` function. \n",
    "\n",
    "### Image Pre-processing\n",
    "\n",
    "The `process_image` function should take in an image (in the form of a NumPy array) and return an image in the form of a NumPy array with shape `(224, 224, 3)`.\n",
    "\n",
    "First, you should convert your image into a TensorFlow Tensor and then resize it to the appropriate size using `tf.image.resize`.\n",
    "\n",
    "Second, the pixel values of the input images are typically encoded as integers in the range 0-255, but the model expects the pixel values to be floats in the range 0-1. Therefore, you'll also need to normalize the pixel values. \n",
    "\n",
    "Finally, convert your image back to a NumPy array using the `.numpy()` method."
   ]
  },
  {
   "cell_type": "code",
   "execution_count": null,
   "metadata": {
    "colab": {},
    "colab_type": "code",
    "id": "oG7mJ1-5s1qe"
   },
   "outputs": [],
   "source": [
    "import tensorflow as tf\n",
    "import numpy as np\n",
    "from PIL import Image\n",
    "\n",
    "def process_image(image_path):\n",
    "    \"\"\"\n",
    "    Processes an input image to a normalized numpy array of shape (224, 224, 3).\n",
    "    \n",
    "    Args:\n",
    "        image_path (str): Path to the input image.\n",
    "    \n",
    "    Returns:\n",
    "        np.ndarray: Preprocessed image as a numpy array.\n",
    "    \"\"\"\n",
    "    # Load the image\n",
    "    image = Image.open(image_path)\n",
    "\n",
    "    # Convert the image to a numpy array\n",
    "    image = np.array(image)\n",
    "\n",
    "    # Convert the image to a TensorFlow tensor\n",
    "    image = tf.convert_to_tensor(image, dtype=tf.float32)\n",
    "\n",
    "    # Resize the image to the required size\n",
    "    image = tf.image.resize(image, (224, 224))\n",
    "\n",
    "    # Normalize the pixel values to the range [0, 1]\n",
    "    image /= 255.0\n",
    "\n",
    "    # Convert the tensor back to a numpy array\n",
    "    image = image.numpy()\n",
    "\n",
    "    return image\n",
    "\n",
    "\n",
    "def predict(image_path, model, top_k):\n",
    "    \"\"\"\n",
    "    Predicts the top K classes for a given image using a trained model.\n",
    "    \n",
    "    Args:\n",
    "        image_path (str): Path to the input image.\n",
    "        model (tf.keras.Model): Pre-trained model for prediction.\n",
    "        top_k (int): Number of top predictions to return.\n",
    "    \n",
    "    Returns:\n",
    "        tuple: Top K probabilities and corresponding class labels.\n",
    "    \"\"\"\n",
    "    # Process the image\n",
    "    image = process_image(image_path)\n",
    "\n",
    "    # Add a batch dimension to the image\n",
    "    image = np.expand_dims(image, axis=0)\n",
    "\n",
    "    # Make a prediction\n",
    "    predictions = model.predict(image)\n",
    "\n",
    "    # Get the top K predictions\n",
    "    top_k_indices = predictions[0].argsort()[-top_k:][::-1]\n",
    "    top_k_probabilities = predictions[0][top_k_indices]\n",
    "    top_k_classes = [str(i) for i in top_k_indices]\n",
    "\n",
    "    return top_k_probabilities, top_k_classes\n",
    "\n",
    "\n",
    "# Example usage (ensure `loaded_model` is a pre-trained TensorFlow model)\n",
    "# Replace 'path/to/your/image.jpg' with the actual image path.\n",
    "# loaded_model = tf.keras.models.load_model('path/to/your/model') # Uncomment and replace with your model path\n",
    "# image_path = 'path/to/your/image.jpg'\n",
    "# top_k = 5\n",
    "\n",
    "# probs, classes = predict(image_path, loaded_model, top_k)\n",
    "# print(probs)\n",
    "# print(classes)\n"
   ]
  },
  {
   "cell_type": "markdown",
   "metadata": {},
   "source": [
    "To check your `process_image` function we have provided 4 images in the `./test_images/` folder:\n",
    "\n",
    "* cautleya_spicata.jpg\n",
    "* hard-leaved_pocket_orchid.jpg\n",
    "* orange_dahlia.jpg\n",
    "* wild_pansy.jpg\n",
    "\n",
    "The code below loads one of the above images using `PIL` and plots the original image alongside the image produced by your `process_image` function. If your `process_image` function works, the plotted image should be the correct size. "
   ]
  },
  {
   "cell_type": "code",
   "execution_count": null,
   "metadata": {},
   "outputs": [],
   "source": [
    "\n",
    "from PIL import Image\n",
    "\n",
    "image_path = './test_images/hard-leaved_pocket_orchid.jpg'\n",
    "im = Image.open(image_path)\n",
    "test_image = np.asarray(im)\n",
    "\n",
    "processed_test_image = process_image(test_image)\n",
    "\n",
    "fig, (ax1, ax2) = plt.subplots(figsize=(10,10), ncols=2)\n",
    "ax1.imshow(test_image)\n",
    "ax1.set_title('Original Image')\n",
    "ax2.imshow(processed_test_image)\n",
    "ax2.set_title('Processed Image')\n",
    "plt.tight_layout()\n",
    "plt.show()"
   ]
  },
  {
   "cell_type": "markdown",
   "metadata": {},
   "source": [
    "Once you can get images in the correct format, it's time to write the `predict` function for making inference with your model.\n",
    "\n",
    "### Inference\n",
    "\n",
    "Remember, the `predict` function should take an image, a model, and then returns the top $K$ most likely class labels along with the probabilities. The function call should look like: \n",
    "\n",
    "```python\n",
    "probs, classes = predict(image_path, model, top_k)\n",
    "```\n",
    "\n",
    "If `top_k=5` the output of the `predict` function should be something like this:\n",
    "\n",
    "```python\n",
    "probs, classes = predict(image_path, model, 5)\n",
    "print(probs)\n",
    "print(classes)\n",
    "> [ 0.01558163  0.01541934  0.01452626  0.01443549  0.01407339]\n",
    "> ['70', '3', '45', '62', '55']\n",
    "```\n",
    "\n",
    "Your `predict` function should use `PIL` to load the image from the given `image_path`. You can use the [Image.open](https://pillow.readthedocs.io/en/latest/reference/Image.html#PIL.Image.open) function to load the images. The `Image.open()` function returns an `Image` object. You can convert this `Image` object to a NumPy array by using the `np.asarray()` function.\n",
    "\n",
    "**Note:** The image returned by the `process_image` function is a NumPy array with shape `(224, 224, 3)` but the model expects the input images to be of shape `(1, 224, 224, 3)`. This extra dimension represents the batch size. We suggest you use the `np.expand_dims()` function to add the extra dimension. "
   ]
  },
  {
   "cell_type": "code",
   "execution_count": null,
   "metadata": {
    "colab": {},
    "colab_type": "code",
    "id": "SBnPKFJuGB32"
   },
   "outputs": [],
   "source": [
    "# TODO: Create the predict function\n",
    "\n"
   ]
  },
  {
   "cell_type": "markdown",
   "metadata": {
    "colab_type": "text",
    "id": "aft8f_n5C7Co"
   },
   "source": [
    "# Sanity Check\n",
    "\n",
    "It's always good to check the predictions made by your model to make sure they are correct. To check your predictions we have provided 4 images in the `./test_images/` folder:\n",
    "\n",
    "* cautleya_spicata.jpg\n",
    "* hard-leaved_pocket_orchid.jpg\n",
    "* orange_dahlia.jpg\n",
    "* wild_pansy.jpg\n",
    "\n",
    "In the cell below use `matplotlib` to plot the input image alongside the probabilities for the top 5 classes predicted by your model. Plot the probabilities as a bar graph. The plot should look like this:\n",
    "\n",
    "<img src='assets/inference_example.png' width=600px>\n",
    "\n",
    "You can convert from the class integer labels to actual flower names using `class_names`. "
   ]
  },
  {
   "cell_type": "code",
   "execution_count": null,
   "metadata": {
    "colab": {
     "base_uri": "https://localhost:8080/",
     "height": 336
    },
    "colab_type": "code",
    "id": "I_tBH8xGGVxQ",
    "outputId": "ef0fe795-65f3-49c5-fab0-086fac7d409d"
   },
   "outputs": [],
   "source": [
    "# TODO: Plot the input image along with the top 5 classes\n",
    "import matplotlib.pyplot as plt\n",
    "import numpy as np\n",
    "\n",
    "def plot_predictions(image_path, model, class_names, top_k=5):\n",
    "    # Process the image\n",
    "    image = process_image(image_path)\n",
    "    \n",
    "    # Get the top K predictions\n",
    "    probs, classes = predict(image_path, model, top_k)\n",
    "    \n",
    "    # Convert class integers to actual names\n",
    "    class_names = [class_names[str(cls)] for cls in classes]\n",
    "    \n",
    "    # Plot the input image\n",
    "    plt.figure(figsize=(12, 6))\n",
    "    \n",
    "    plt.subplot(1, 2, 1)\n",
    "    plt.imshow(image)\n",
    "    plt.title(\"Input Image\")\n",
    "    plt.axis('off')\n",
    "    \n",
    "    # Plot the probabilities as a bar graph\n",
    "    plt.subplot(1, 2, 2)\n",
    "    plt.barh(np.arange(top_k), probs)\n",
    "    plt.yticks(np.arange(top_k), class_names)\n",
    "    plt.xlabel('Probability')\n",
    "    plt.title('Top 5 Class Probabilities')\n",
    "    \n",
    "    plt.show()\n",
    "\n",
    "# Example usage\n",
    "image_path = './test_images/cautleya_spicata.jpg'\n",
    "plot_predictions(image_path, loaded_model, class_names, top_k=5)"
   ]
  },
  {
   "cell_type": "code",
   "execution_count": null,
   "metadata": {},
   "outputs": [],
   "source": []
  }
 ],
 "metadata": {
  "accelerator": "GPU",
  "colab": {
   "collapsed_sections": [],
   "name": "Project - Image Classifier Project.ipynb",
   "provenance": []
  },
  "kernelspec": {
   "display_name": "Python 3",
   "language": "python",
   "name": "python3"
  },
  "language_info": {
   "codemirror_mode": {
    "name": "ipython",
    "version": 3
   },
   "file_extension": ".py",
   "mimetype": "text/x-python",
   "name": "python",
   "nbconvert_exporter": "python",
   "pygments_lexer": "ipython3",
   "version": "3.12.8"
  }
 },
 "nbformat": 4,
 "nbformat_minor": 1
}
